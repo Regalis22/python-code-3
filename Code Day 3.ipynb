{
 "cells": [
  {
   "cell_type": "code",
   "execution_count": 24,
   "id": "ada72b0e",
   "metadata": {},
   "outputs": [],
   "source": [
    "a = [25,'Ashish','Petropython',96.2,21,True]"
   ]
  },
  {
   "cell_type": "code",
   "execution_count": 2,
   "id": "a8914b80",
   "metadata": {},
   "outputs": [
    {
     "data": {
      "text/plain": [
       "[25, 'Ashish', 'Petropython', 96.2, 21, True]"
      ]
     },
     "execution_count": 2,
     "metadata": {},
     "output_type": "execute_result"
    }
   ],
   "source": [
    "a"
   ]
  },
  {
   "cell_type": "code",
   "execution_count": 4,
   "id": "b125d72b",
   "metadata": {},
   "outputs": [
    {
     "data": {
      "text/plain": [
       "list"
      ]
     },
     "execution_count": 4,
     "metadata": {},
     "output_type": "execute_result"
    }
   ],
   "source": [
    "type(a)"
   ]
  },
  {
   "cell_type": "code",
   "execution_count": 14,
   "id": "84c7be01",
   "metadata": {},
   "outputs": [],
   "source": [
    "porosity = [0.3,0.41,0.8,0.76,0.12,0.69,0.64,0.114,0.321]"
   ]
  },
  {
   "cell_type": "code",
   "execution_count": 15,
   "id": "650c4662",
   "metadata": {},
   "outputs": [
    {
     "data": {
      "text/plain": [
       "[0.3, 0.41, 0.8, 0.76, 0.12, 0.69, 0.64, 0.114, 0.321]"
      ]
     },
     "execution_count": 15,
     "metadata": {},
     "output_type": "execute_result"
    }
   ],
   "source": [
    "porosity"
   ]
  },
  {
   "cell_type": "code",
   "execution_count": 19,
   "id": "543671b3",
   "metadata": {},
   "outputs": [
    {
     "data": {
      "text/plain": [
       "0.3"
      ]
     },
     "execution_count": 19,
     "metadata": {},
     "output_type": "execute_result"
    }
   ],
   "source": [
    "porosity[0]"
   ]
  },
  {
   "cell_type": "code",
   "execution_count": 20,
   "id": "9fd254f0",
   "metadata": {},
   "outputs": [
    {
     "data": {
      "text/plain": [
       "0.76"
      ]
     },
     "execution_count": 20,
     "metadata": {},
     "output_type": "execute_result"
    }
   ],
   "source": [
    "porosity[3]"
   ]
  },
  {
   "cell_type": "code",
   "execution_count": 32,
   "id": "dfda3f7a",
   "metadata": {},
   "outputs": [
    {
     "data": {
      "text/plain": [
       "0.321"
      ]
     },
     "execution_count": 32,
     "metadata": {},
     "output_type": "execute_result"
    }
   ],
   "source": [
    "porosity[8]"
   ]
  },
  {
   "cell_type": "code",
   "execution_count": 34,
   "id": "b268d2fc",
   "metadata": {},
   "outputs": [
    {
     "data": {
      "text/plain": [
       "0.76"
      ]
     },
     "execution_count": 34,
     "metadata": {},
     "output_type": "execute_result"
    }
   ],
   "source": [
    "porosity[-6]"
   ]
  },
  {
   "cell_type": "code",
   "execution_count": 35,
   "id": "70146564",
   "metadata": {},
   "outputs": [
    {
     "data": {
      "text/plain": [
       "0.69"
      ]
     },
     "execution_count": 35,
     "metadata": {},
     "output_type": "execute_result"
    }
   ],
   "source": [
    "porosity[-4]"
   ]
  },
  {
   "cell_type": "code",
   "execution_count": 25,
   "id": "4e54dbd5",
   "metadata": {},
   "outputs": [],
   "source": [
    "a = [39,55,0.2,'saturation',True,[45,'petro',11,'gas',67],98,100,0.5]"
   ]
  },
  {
   "cell_type": "code",
   "execution_count": 33,
   "id": "30e7a887",
   "metadata": {},
   "outputs": [
    {
     "data": {
      "text/plain": [
       "[39, 55, 0.2, 'saturation', True, [45, 'petro', 11, 'gas', 67], 98, 100, 0.5]"
      ]
     },
     "execution_count": 33,
     "metadata": {},
     "output_type": "execute_result"
    }
   ],
   "source": [
    "a"
   ]
  },
  {
   "cell_type": "code",
   "execution_count": 27,
   "id": "468786f3",
   "metadata": {},
   "outputs": [
    {
     "data": {
      "text/plain": [
       "'saturation'"
      ]
     },
     "execution_count": 27,
     "metadata": {},
     "output_type": "execute_result"
    }
   ],
   "source": [
    "a[3]"
   ]
  },
  {
   "cell_type": "code",
   "execution_count": 28,
   "id": "a315e6d8",
   "metadata": {},
   "outputs": [
    {
     "data": {
      "text/plain": [
       "98"
      ]
     },
     "execution_count": 28,
     "metadata": {},
     "output_type": "execute_result"
    }
   ],
   "source": [
    "a[6]"
   ]
  },
  {
   "cell_type": "code",
   "execution_count": 30,
   "id": "c5067df4",
   "metadata": {},
   "outputs": [
    {
     "data": {
      "text/plain": [
       "[45, 'petro', 11, 'gas', 67]"
      ]
     },
     "execution_count": 30,
     "metadata": {},
     "output_type": "execute_result"
    }
   ],
   "source": [
    "a[5]"
   ]
  },
  {
   "cell_type": "code",
   "execution_count": 31,
   "id": "691a066c",
   "metadata": {},
   "outputs": [
    {
     "data": {
      "text/plain": [
       "11"
      ]
     },
     "execution_count": 31,
     "metadata": {},
     "output_type": "execute_result"
    }
   ],
   "source": [
    "a[5][2]"
   ]
  },
  {
   "cell_type": "code",
   "execution_count": 37,
   "id": "c51efac1",
   "metadata": {},
   "outputs": [],
   "source": [
    "# mutabilty"
   ]
  },
  {
   "cell_type": "code",
   "execution_count": 38,
   "id": "9d2655e2",
   "metadata": {},
   "outputs": [
    {
     "data": {
      "text/plain": [
       "[0.3, 0.41, 0.8, 0.76, 0.12, 0.69, 0.64, 0.114, 0.321]"
      ]
     },
     "execution_count": 38,
     "metadata": {},
     "output_type": "execute_result"
    }
   ],
   "source": [
    "porosity"
   ]
  },
  {
   "cell_type": "code",
   "execution_count": 39,
   "id": "9fecb05f",
   "metadata": {},
   "outputs": [],
   "source": [
    "porosity[3] = 0.36"
   ]
  },
  {
   "cell_type": "code",
   "execution_count": 40,
   "id": "59659fb3",
   "metadata": {},
   "outputs": [
    {
     "data": {
      "text/plain": [
       "[0.3, 0.41, 0.8, 0.36, 0.12, 0.69, 0.64, 0.114, 0.321]"
      ]
     },
     "execution_count": 40,
     "metadata": {},
     "output_type": "execute_result"
    }
   ],
   "source": [
    "porosity"
   ]
  },
  {
   "cell_type": "code",
   "execution_count": 41,
   "id": "da959e7f",
   "metadata": {},
   "outputs": [],
   "source": [
    "# len function"
   ]
  },
  {
   "cell_type": "code",
   "execution_count": 43,
   "id": "44e69dd9",
   "metadata": {},
   "outputs": [
    {
     "data": {
      "text/plain": [
       "9"
      ]
     },
     "execution_count": 43,
     "metadata": {},
     "output_type": "execute_result"
    }
   ],
   "source": [
    "len(porosity)"
   ]
  },
  {
   "cell_type": "code",
   "execution_count": 44,
   "id": "f9380511",
   "metadata": {},
   "outputs": [],
   "source": [
    "## Similarities with string: indexing"
   ]
  },
  {
   "cell_type": "code",
   "execution_count": 45,
   "id": "77ad10e7",
   "metadata": {},
   "outputs": [],
   "source": [
    "a = 'porosity_and_permeability'"
   ]
  },
  {
   "cell_type": "code",
   "execution_count": 46,
   "id": "1743337f",
   "metadata": {},
   "outputs": [
    {
     "data": {
      "text/plain": [
       "'porosity_and_permeability'"
      ]
     },
     "execution_count": 46,
     "metadata": {},
     "output_type": "execute_result"
    }
   ],
   "source": [
    "a"
   ]
  },
  {
   "cell_type": "code",
   "execution_count": 51,
   "id": "d6fa8107",
   "metadata": {},
   "outputs": [
    {
     "data": {
      "text/plain": [
       "'o'"
      ]
     },
     "execution_count": 51,
     "metadata": {},
     "output_type": "execute_result"
    }
   ],
   "source": [
    "a[1]"
   ]
  },
  {
   "cell_type": "code",
   "execution_count": 49,
   "id": "1e0c9c81",
   "metadata": {},
   "outputs": [
    {
     "data": {
      "text/plain": [
       "'t'"
      ]
     },
     "execution_count": 49,
     "metadata": {},
     "output_type": "execute_result"
    }
   ],
   "source": [
    "a[-2]"
   ]
  },
  {
   "cell_type": "code",
   "execution_count": 52,
   "id": "b682c14a",
   "metadata": {},
   "outputs": [
    {
     "data": {
      "text/plain": [
       "[0.3, 0.41, 0.8, 0.36, 0.12, 0.69, 0.64, 0.114, 0.321]"
      ]
     },
     "execution_count": 52,
     "metadata": {},
     "output_type": "execute_result"
    }
   ],
   "source": [
    "porosity"
   ]
  },
  {
   "cell_type": "code",
   "execution_count": 54,
   "id": "01ef3b1d",
   "metadata": {},
   "outputs": [
    {
     "data": {
      "text/plain": [
       "[0.3, 0.41, 0.8, 0.36, 0.12, 0.69, 0.64, 0.114, 0.321]"
      ]
     },
     "execution_count": 54,
     "metadata": {},
     "output_type": "execute_result"
    }
   ],
   "source": [
    "porosity[0:9]"
   ]
  },
  {
   "cell_type": "code",
   "execution_count": 55,
   "id": "c393457a",
   "metadata": {},
   "outputs": [
    {
     "data": {
      "text/plain": [
       "[0.41, 0.8, 0.36, 0.12, 0.69, 0.64, 0.114]"
      ]
     },
     "execution_count": 55,
     "metadata": {},
     "output_type": "execute_result"
    }
   ],
   "source": [
    "porosity[1:8]"
   ]
  },
  {
   "cell_type": "code",
   "execution_count": 56,
   "id": "90aafaaf",
   "metadata": {},
   "outputs": [
    {
     "data": {
      "text/plain": [
       "[0.3, 0.41, 0.8, 0.36, 0.12, 0.69, 0.64, 0.114, 0.321]"
      ]
     },
     "execution_count": 56,
     "metadata": {},
     "output_type": "execute_result"
    }
   ],
   "source": [
    "porosity[:]"
   ]
  },
  {
   "cell_type": "code",
   "execution_count": 57,
   "id": "45dfd02c",
   "metadata": {},
   "outputs": [
    {
     "data": {
      "text/plain": [
       "[0.3, 0.41, 0.8, 0.36, 0.12, 0.69, 0.64, 0.114, 0.321]"
      ]
     },
     "execution_count": 57,
     "metadata": {},
     "output_type": "execute_result"
    }
   ],
   "source": [
    "porosity[0:]"
   ]
  },
  {
   "cell_type": "code",
   "execution_count": 58,
   "id": "727032fa",
   "metadata": {},
   "outputs": [
    {
     "data": {
      "text/plain": [
       "[0.3, 0.41, 0.8, 0.36, 0.12, 0.69, 0.64, 0.114, 0.321]"
      ]
     },
     "execution_count": 58,
     "metadata": {},
     "output_type": "execute_result"
    }
   ],
   "source": [
    "porosity[:9]"
   ]
  },
  {
   "cell_type": "code",
   "execution_count": 59,
   "id": "6b0dbddf",
   "metadata": {},
   "outputs": [
    {
     "data": {
      "text/plain": [
       "[0.41, 0.8, 0.36, 0.12, 0.69, 0.64, 0.114, 0.321]"
      ]
     },
     "execution_count": 59,
     "metadata": {},
     "output_type": "execute_result"
    }
   ],
   "source": [
    "porosity[1:99]"
   ]
  },
  {
   "cell_type": "code",
   "execution_count": 60,
   "id": "eaf30464",
   "metadata": {},
   "outputs": [
    {
     "data": {
      "text/plain": [
       "[0.3, 0.36, 0.64]"
      ]
     },
     "execution_count": 60,
     "metadata": {},
     "output_type": "execute_result"
    }
   ],
   "source": [
    "porosity[::3]"
   ]
  },
  {
   "cell_type": "code",
   "execution_count": 61,
   "id": "b42e5ab0",
   "metadata": {},
   "outputs": [
    {
     "data": {
      "text/plain": [
       "[0.3, 0.12, 0.321]"
      ]
     },
     "execution_count": 61,
     "metadata": {},
     "output_type": "execute_result"
    }
   ],
   "source": [
    "porosity[::4]"
   ]
  },
  {
   "cell_type": "code",
   "execution_count": 62,
   "id": "8e4c5c32",
   "metadata": {},
   "outputs": [
    {
     "data": {
      "text/plain": [
       "[0.3, 0.69]"
      ]
     },
     "execution_count": 62,
     "metadata": {},
     "output_type": "execute_result"
    }
   ],
   "source": [
    "porosity[::5]"
   ]
  },
  {
   "cell_type": "code",
   "execution_count": 63,
   "id": "269e39d7",
   "metadata": {},
   "outputs": [
    {
     "data": {
      "text/plain": [
       "[0.41, 0.69]"
      ]
     },
     "execution_count": 63,
     "metadata": {},
     "output_type": "execute_result"
    }
   ],
   "source": [
    "porosity[1:-1:4]"
   ]
  },
  {
   "cell_type": "code",
   "execution_count": 64,
   "id": "b88f224d",
   "metadata": {},
   "outputs": [
    {
     "data": {
      "text/plain": [
       "[0.8, 0.12]"
      ]
     },
     "execution_count": 64,
     "metadata": {},
     "output_type": "execute_result"
    }
   ],
   "source": [
    "porosity[2:-3:2]"
   ]
  },
  {
   "cell_type": "code",
   "execution_count": 65,
   "id": "c25d64ff",
   "metadata": {},
   "outputs": [
    {
     "data": {
      "text/plain": [
       "[0.69, 0.12, 0.36, 0.8, 0.41]"
      ]
     },
     "execution_count": 65,
     "metadata": {},
     "output_type": "execute_result"
    }
   ],
   "source": [
    "porosity[5:0:-1]"
   ]
  },
  {
   "cell_type": "code",
   "execution_count": 67,
   "id": "511dfe42",
   "metadata": {},
   "outputs": [
    {
     "data": {
      "text/plain": [
       "[0.69, 0.64, 0.114, 0.321]"
      ]
     },
     "execution_count": 67,
     "metadata": {},
     "output_type": "execute_result"
    }
   ],
   "source": [
    "porosity[-4:90]"
   ]
  },
  {
   "cell_type": "code",
   "execution_count": 71,
   "id": "7603c72a",
   "metadata": {},
   "outputs": [],
   "source": [
    "li = [34,345,'saturation',(4+7j),True,[99,87,'Ashish']]"
   ]
  },
  {
   "cell_type": "code",
   "execution_count": 72,
   "id": "36485d73",
   "metadata": {},
   "outputs": [
    {
     "data": {
      "text/plain": [
       "True"
      ]
     },
     "execution_count": 72,
     "metadata": {},
     "output_type": "execute_result"
    }
   ],
   "source": [
    "li[4]"
   ]
  },
  {
   "cell_type": "code",
   "execution_count": 73,
   "id": "53c12fff",
   "metadata": {},
   "outputs": [
    {
     "data": {
      "text/plain": [
       "[99, 87, 'Ashish']"
      ]
     },
     "execution_count": 73,
     "metadata": {},
     "output_type": "execute_result"
    }
   ],
   "source": [
    "li[5]"
   ]
  },
  {
   "cell_type": "code",
   "execution_count": 74,
   "id": "0a7ad03e",
   "metadata": {},
   "outputs": [
    {
     "data": {
      "text/plain": [
       "'Ashish'"
      ]
     },
     "execution_count": 74,
     "metadata": {},
     "output_type": "execute_result"
    }
   ],
   "source": [
    "li[5][2]"
   ]
  },
  {
   "cell_type": "code",
   "execution_count": 75,
   "id": "318c508c",
   "metadata": {},
   "outputs": [
    {
     "data": {
      "text/plain": [
       "[99, 'Ashish']"
      ]
     },
     "execution_count": 75,
     "metadata": {},
     "output_type": "execute_result"
    }
   ],
   "source": [
    "li[5][::2]"
   ]
  },
  {
   "cell_type": "code",
   "execution_count": 76,
   "id": "07295c65",
   "metadata": {},
   "outputs": [],
   "source": [
    "##Mutable: Empty lists are widely used for populating it with certain calculations"
   ]
  },
  {
   "cell_type": "code",
   "execution_count": 77,
   "id": "09c38aae",
   "metadata": {},
   "outputs": [],
   "source": [
    "Crude_Density = []"
   ]
  },
  {
   "cell_type": "code",
   "execution_count": 78,
   "id": "9cc42580",
   "metadata": {},
   "outputs": [],
   "source": [
    "Crude_Density.append(62.4)"
   ]
  },
  {
   "cell_type": "code",
   "execution_count": 79,
   "id": "56319018",
   "metadata": {},
   "outputs": [
    {
     "data": {
      "text/plain": [
       "[62.4]"
      ]
     },
     "execution_count": 79,
     "metadata": {},
     "output_type": "execute_result"
    }
   ],
   "source": [
    "Crude_Density"
   ]
  },
  {
   "cell_type": "code",
   "execution_count": 80,
   "id": "e3ddf227",
   "metadata": {},
   "outputs": [],
   "source": [
    "Crude_Density.append(99)"
   ]
  },
  {
   "cell_type": "code",
   "execution_count": 81,
   "id": "3a4dc177",
   "metadata": {},
   "outputs": [
    {
     "data": {
      "text/plain": [
       "[62.4, 99]"
      ]
     },
     "execution_count": 81,
     "metadata": {},
     "output_type": "execute_result"
    }
   ],
   "source": [
    "Crude_Density"
   ]
  },
  {
   "cell_type": "code",
   "execution_count": 82,
   "id": "b90beb65",
   "metadata": {},
   "outputs": [],
   "source": [
    "Crude_Density.append(44)"
   ]
  },
  {
   "cell_type": "code",
   "execution_count": 83,
   "id": "d4849bea",
   "metadata": {},
   "outputs": [
    {
     "data": {
      "text/plain": [
       "[62.4, 99, 44]"
      ]
     },
     "execution_count": 83,
     "metadata": {},
     "output_type": "execute_result"
    }
   ],
   "source": [
    "Crude_Density"
   ]
  },
  {
   "cell_type": "code",
   "execution_count": 84,
   "id": "d84f5706",
   "metadata": {},
   "outputs": [],
   "source": [
    "# insert"
   ]
  },
  {
   "cell_type": "code",
   "execution_count": 85,
   "id": "66a5c87a",
   "metadata": {},
   "outputs": [],
   "source": [
    "a = [1,2,3,4,5,6,7,8,9,10]"
   ]
  },
  {
   "cell_type": "code",
   "execution_count": 86,
   "id": "41d08323",
   "metadata": {},
   "outputs": [
    {
     "data": {
      "text/plain": [
       "[1, 2, 3, 4, 5, 6, 7, 8, 9, 10]"
      ]
     },
     "execution_count": 86,
     "metadata": {},
     "output_type": "execute_result"
    }
   ],
   "source": [
    "a"
   ]
  },
  {
   "cell_type": "code",
   "execution_count": 87,
   "id": "98c4a559",
   "metadata": {},
   "outputs": [],
   "source": [
    "a.insert(8,\"oil and gas\")"
   ]
  },
  {
   "cell_type": "code",
   "execution_count": 88,
   "id": "5caa1d7c",
   "metadata": {},
   "outputs": [
    {
     "data": {
      "text/plain": [
       "[1, 2, 3, 4, 5, 6, 7, 8, 'oil and gas', 9, 10]"
      ]
     },
     "execution_count": 88,
     "metadata": {},
     "output_type": "execute_result"
    }
   ],
   "source": [
    "a"
   ]
  },
  {
   "cell_type": "code",
   "execution_count": 89,
   "id": "d1ad6d83",
   "metadata": {},
   "outputs": [],
   "source": [
    "a.insert(2,\"happy\")"
   ]
  },
  {
   "cell_type": "code",
   "execution_count": 90,
   "id": "af78819f",
   "metadata": {},
   "outputs": [
    {
     "data": {
      "text/plain": [
       "[1, 2, 'happy', 3, 4, 5, 6, 7, 8, 'oil and gas', 9, 10]"
      ]
     },
     "execution_count": 90,
     "metadata": {},
     "output_type": "execute_result"
    }
   ],
   "source": [
    "a"
   ]
  },
  {
   "cell_type": "code",
   "execution_count": 91,
   "id": "e970f318",
   "metadata": {},
   "outputs": [],
   "source": [
    "## List Operations"
   ]
  },
  {
   "cell_type": "code",
   "execution_count": 92,
   "id": "5fb79661",
   "metadata": {},
   "outputs": [],
   "source": [
    "a = [1,2,3,4]\n",
    "b = [5,6,7,8]"
   ]
  },
  {
   "cell_type": "code",
   "execution_count": 93,
   "id": "5e5d24e6",
   "metadata": {},
   "outputs": [
    {
     "data": {
      "text/plain": [
       "[1, 2, 3, 4, 5, 6, 7, 8]"
      ]
     },
     "execution_count": 93,
     "metadata": {},
     "output_type": "execute_result"
    }
   ],
   "source": [
    "a+b"
   ]
  },
  {
   "cell_type": "code",
   "execution_count": 94,
   "id": "b0b7546f",
   "metadata": {},
   "outputs": [],
   "source": [
    "c = a+b"
   ]
  },
  {
   "cell_type": "code",
   "execution_count": 95,
   "id": "ca7aa5fc",
   "metadata": {},
   "outputs": [
    {
     "data": {
      "text/plain": [
       "[1, 2, 3, 4, 5, 6, 7, 8]"
      ]
     },
     "execution_count": 95,
     "metadata": {},
     "output_type": "execute_result"
    }
   ],
   "source": [
    "c"
   ]
  },
  {
   "cell_type": "code",
   "execution_count": 97,
   "id": "29f9568f",
   "metadata": {},
   "outputs": [],
   "source": [
    "d = \"happy\"\n",
    "e = \"day\""
   ]
  },
  {
   "cell_type": "code",
   "execution_count": 98,
   "id": "e1468634",
   "metadata": {},
   "outputs": [
    {
     "data": {
      "text/plain": [
       "'happyday'"
      ]
     },
     "execution_count": 98,
     "metadata": {},
     "output_type": "execute_result"
    }
   ],
   "source": [
    "d+e"
   ]
  },
  {
   "cell_type": "code",
   "execution_count": 101,
   "id": "1bce3d05",
   "metadata": {},
   "outputs": [
    {
     "data": {
      "text/plain": [
       "[1, 2, 3, 4, 5, 6, 7, 8, 1, 2, 3, 4, 5, 6, 7, 8, 1, 2, 3, 4, 5, 6, 7, 8]"
      ]
     },
     "execution_count": 101,
     "metadata": {},
     "output_type": "execute_result"
    }
   ],
   "source": [
    "c*3"
   ]
  },
  {
   "cell_type": "code",
   "execution_count": 106,
   "id": "18ad6a25",
   "metadata": {},
   "outputs": [
    {
     "data": {
      "text/plain": [
       "range(0, 20)"
      ]
     },
     "execution_count": 106,
     "metadata": {},
     "output_type": "execute_result"
    }
   ],
   "source": [
    "range(20) "
   ]
  },
  {
   "cell_type": "code",
   "execution_count": 107,
   "id": "032297de",
   "metadata": {},
   "outputs": [
    {
     "data": {
      "text/plain": [
       "[0, 1, 2, 3, 4, 5, 6, 7, 8, 9, 10, 11, 12, 13, 14, 15, 16, 17, 18, 19]"
      ]
     },
     "execution_count": 107,
     "metadata": {},
     "output_type": "execute_result"
    }
   ],
   "source": [
    "list(range(20))"
   ]
  },
  {
   "cell_type": "code",
   "execution_count": 109,
   "id": "7265955d",
   "metadata": {},
   "outputs": [
    {
     "data": {
      "text/plain": [
       "[1, 4, 7, 10, 13, 16, 19]"
      ]
     },
     "execution_count": 109,
     "metadata": {},
     "output_type": "execute_result"
    }
   ],
   "source": [
    "list(range(1,20,3))"
   ]
  },
  {
   "cell_type": "code",
   "execution_count": 110,
   "id": "0ce70534",
   "metadata": {},
   "outputs": [
    {
     "data": {
      "text/plain": [
       "[]"
      ]
     },
     "execution_count": 110,
     "metadata": {},
     "output_type": "execute_result"
    }
   ],
   "source": [
    "list(range(1,20,-2))"
   ]
  },
  {
   "cell_type": "code",
   "execution_count": 111,
   "id": "ece836b2",
   "metadata": {},
   "outputs": [
    {
     "data": {
      "text/plain": [
       "[20, 18, 16, 14, 12, 10, 8, 6, 4, 2]"
      ]
     },
     "execution_count": 111,
     "metadata": {},
     "output_type": "execute_result"
    }
   ],
   "source": [
    "list(range(20,1,-2))"
   ]
  },
  {
   "cell_type": "code",
   "execution_count": 112,
   "id": "a6b63ae0",
   "metadata": {},
   "outputs": [],
   "source": [
    "# taking inputs for lower bound, upper bound and step size\n",
    "\n",
    "## output= desirable list"
   ]
  },
  {
   "cell_type": "code",
   "execution_count": 114,
   "id": "5c0e536b",
   "metadata": {},
   "outputs": [
    {
     "name": "stdout",
     "output_type": "stream",
     "text": [
      "Lower Bound: 50\n",
      "Upper Bound: 2\n",
      "Step Size: -2\n"
     ]
    },
    {
     "data": {
      "text/plain": [
       "[50,\n",
       " 48,\n",
       " 46,\n",
       " 44,\n",
       " 42,\n",
       " 40,\n",
       " 38,\n",
       " 36,\n",
       " 34,\n",
       " 32,\n",
       " 30,\n",
       " 28,\n",
       " 26,\n",
       " 24,\n",
       " 22,\n",
       " 20,\n",
       " 18,\n",
       " 16,\n",
       " 14,\n",
       " 12,\n",
       " 10,\n",
       " 8,\n",
       " 6,\n",
       " 4]"
      ]
     },
     "execution_count": 114,
     "metadata": {},
     "output_type": "execute_result"
    }
   ],
   "source": [
    "l = int(input('Lower Bound: '))\n",
    "u = int(input('Upper Bound: '))\n",
    "s = int(input('Step Size: '))\n",
    "\n",
    "list(range(l,u,s))"
   ]
  },
  {
   "cell_type": "code",
   "execution_count": null,
   "id": "b2c165e8",
   "metadata": {},
   "outputs": [],
   "source": []
  }
 ],
 "metadata": {
  "kernelspec": {
   "display_name": "Python 3 (ipykernel)",
   "language": "python",
   "name": "python3"
  },
  "language_info": {
   "codemirror_mode": {
    "name": "ipython",
    "version": 3
   },
   "file_extension": ".py",
   "mimetype": "text/x-python",
   "name": "python",
   "nbconvert_exporter": "python",
   "pygments_lexer": "ipython3",
   "version": "3.10.9"
  }
 },
 "nbformat": 4,
 "nbformat_minor": 5
}
